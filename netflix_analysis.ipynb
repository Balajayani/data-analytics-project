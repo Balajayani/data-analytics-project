{
 "cells": [
  {
   "cell_type": "code",
   "execution_count": null,
   "metadata": {},
   "outputs": [],
   "source": [
    "import pandas as pd\n",
    "import matplotlib.pyplot as plt\n",
    "import seaborn as sns\n",
    "\n",
    "# Load cleaned dataset\n",
    "df = pd.read_csv('netflix_cleaned.csv')\n",
    "\n",
    "# Basic info\n",
    "print(\"Dataset shape:\", df.shape)\n",
    "print(\"Columns:\", df.columns)\n",
    "\n",
    "# 1. Count of content types (Movies vs TV Shows)\n",
    "plt.figure(figsize=(6,6))\n",
    "df['type'].value_counts().plot(kind='pie', autopct='%1.1f%%', colors=['#66b3ff','#ff9999'])\n",
    "plt.title('Distribution of Content Type')\n",
    "plt.ylabel('')\n",
    "plt.show()\n",
    "\n",
    "# 2. Year-wise content added trend\n",
    "df['date_added'] = pd.to_datetime(df['date_added'], errors='coerce')\n",
    "df['year_added'] = df['date_added'].dt.year\n",
    "yearly_counts = df['year_added'].value_counts().sort_index()\n",
    "plt.figure(figsize=(10,5))\n",
    "sns.lineplot(x=yearly_counts.index, y=yearly_counts.values, marker='o')\n",
    "plt.title('Content Added Per Year')\n",
    "plt.xlabel('Year')\n",
    "plt.ylabel('Number of Titles')\n",
    "plt.grid(True)\n",
    "plt.show()\n",
    "\n",
    "# 3. Top 10 countries producing Netflix content\n",
    "plt.figure(figsize=(10,6))\n",
    "df['country'].value_counts().head(10).plot(kind='bar', color='skyblue')\n",
    "plt.title('Top 10 Countries Producing Netflix Content')\n",
    "plt.xlabel('Country')\n",
    "plt.ylabel('Number of Titles')\n",
    "plt.xticks(rotation=45)\n",
    "plt.show()\n",
    "\n",
    "# 4. Top 10 genres\n",
    "df['listed_in'] = df['listed_in'].astype(str)\n",
    "genres = df['listed_in'].str.split(', ').explode()\n",
    "plt.figure(figsize=(10,6))\n",
    "genres.value_counts().head(10).plot(kind='bar', color='salmon')\n",
    "plt.title('Top 10 Genres on Netflix')\n",
    "plt.xlabel('Genre')\n",
    "plt.ylabel('Count')\n",
    "plt.xticks(rotation=45)\n",
    "plt.show()"
   ]
  }
 ],
 "metadata": {
  "kernelspec": {
   "display_name": "Python 3",
   "language": "python",
   "name": "python3"
  },
  "language_info": {
   "name": "python",
   "version": ""
  }
 },
 "nbformat": 4,
 "nbformat_minor": 2
}
